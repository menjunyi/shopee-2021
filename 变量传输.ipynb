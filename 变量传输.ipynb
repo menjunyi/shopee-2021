{
 "cells": [
  {
   "source": [
    "用pickle来打包python/pandas变量成为一个文件"
   ],
   "cell_type": "markdown",
   "metadata": {}
  },
  {
   "source": [
    "input_file_path = '/kaggle/output/df_aaa.pkl'\n",
    "df_aaa = pd.read_pickle(file_path) # 读取别人打包的pandas dataframe"
   ],
   "cell_type": "code",
   "metadata": {},
   "execution_count": null,
   "outputs": []
  },
  {
   "cell_type": "code",
   "execution_count": null,
   "metadata": {},
   "outputs": [],
   "source": [
    "output_file_path = '/kaggle/output/df_aaa.pkl'\n",
    "df_aaa.to_pickle(output_file_path) # 打包处理好的pandas数据表进一个pickle文件待发送给别人"
   ]
  },
  {
   "cell_type": "code",
   "execution_count": 4,
   "metadata": {
    "collapsed": true
   },
   "outputs": [],
   "source": [
    "import pickle"
   ]
  },
  {
   "cell_type": "code",
   "execution_count": 5,
   "metadata": {},
   "outputs": [],
   "source": [
    "# 把一个列表变量存到pickle文件\n",
    "var_a = [1,2,3]\n",
    "with open('var_a.pkl', 'wb') as f:\n",
    "    pickle.dump(var_a, f)"
   ]
  },
  {
   "cell_type": "code",
   "execution_count": 6,
   "metadata": {},
   "outputs": [],
   "source": [
    "# 读取pickle文件里存的变量\n",
    "with open('var_a.pkl', 'rb') as f:\n",
    "    var_a2 = pickle.load(f)"
   ]
  },
  {
   "cell_type": "code",
   "execution_count": 7,
   "metadata": {},
   "outputs": [
    {
     "output_type": "execute_result",
     "data": {
      "text/plain": [
       "[1, 2, 3]"
      ]
     },
     "metadata": {},
     "execution_count": 7
    }
   ],
   "source": [
    "var_a2"
   ]
  }
 ],
 "metadata": {
  "kernelspec": {
   "display_name": "Python 3",
   "language": "python",
   "name": "python3"
  },
  "language_info": {
   "codemirror_mode": {
    "name": "ipython",
    "version": 2
   },
   "file_extension": ".py",
   "mimetype": "text/x-python",
   "name": "python",
   "nbconvert_exporter": "python",
   "pygments_lexer": "ipython2",
   "version": "3.7.6-final"
  }
 },
 "nbformat": 4,
 "nbformat_minor": 0
}