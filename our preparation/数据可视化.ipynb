{
 "cells": [
  {
   "source": [
    "基于pandas dataframe的常用统计分析类制图"
   ],
   "cell_type": "markdown",
   "metadata": {}
  },
  {
   "cell_type": "code",
   "execution_count": 1,
   "metadata": {
    "collapsed": true
   },
   "outputs": [],
   "source": [
    "import numpy as np\n",
    "import pandas as pd\n",
    "import matplotlib.pyplot as plt\n",
    "import seaborn as sns\n",
    "%matplotlib inline"
   ]
  },
  {
   "source": [
    "基本类："
   ],
   "cell_type": "markdown",
   "metadata": {}
  },
  {
   "cell_type": "code",
   "execution_count": null,
   "metadata": {},
   "outputs": [],
   "source": [
    "#柱状图 https://pandas.pydata.org/pandas-docs/stable/reference/api/pandas.DataFrame.plot.bar.html\n",
    "ax = df.plot.bar(x='lab', y='val', rot=0) # 指定两列作为x轴和y轴（x一般为类别、年份等，y一般为数值）\n",
    "ax = df.plot.bar(y='speed', rot=0) # x轴默认为index分组，指定某列为y轴\n",
    "ax = df.plot.bar(rot=0) # x轴默认为index分组，各列的值不同颜色竖柱左右并列在一起\n",
    "ax = df.plot.bar(stacked=True) # x轴默认为index分组，各列的值不同颜色竖柱上下叠加在一起\n",
    "\n",
    "axes = df.plot.bar(rot=0, subplots=True) # x轴默认为index分组，各列的值上下分开绘制子图\n",
    "axes[1].legend(loc=2)  "
   ]
  },
  {
   "cell_type": "code",
   "execution_count": null,
   "metadata": {},
   "outputs": [],
   "source": [
    "df.plot(legend=True) # 折线图，x轴默认为index，y轴是每列的值\n",
    "df.plot.area(subplots=True) # x轴默认为index分组，各列的值分别绘制在子图上，填充其折线与x轴之间的面积\n",
    "df['x'].plot.pie() # 饼图，index需为分类，df['x']需为数值型\n",
    "df.plot.pie(subplots=True) # 饼图，index需为分类，df需为数值型，各列的值分别绘制在子图上"
   ]
  },
  {
   "source": [
    "统计类："
   ],
   "cell_type": "markdown",
   "metadata": {}
  },
  {
   "cell_type": "code",
   "execution_count": null,
   "metadata": {},
   "outputs": [],
   "source": [
    "df.plot.scatter(x=\"a\", y=\"b\") # 散点图，需指定x轴和y轴，看两个变量的相关性\n",
    "pd.plotting.scatter_matrix(df, alpha=0.2, diagonal=\"kde\") # 散布矩阵图\n",
    "\n",
    "df.plot.hexbin(x='a', y='b', gridsize=20) # 六边形图，需指定x轴和y轴，gridsize为x轴方向上的六边形数量\n",
    "\n",
    "df.hist(bins=10) # 直方图，每列画一个子图，x轴默认为index按数值从小到大均分成bins个柱子，看计数频次分布\n",
    "df_per.plot.hist(bins=20, alpha=0.5) # 直方图，各列叠加不同色在同一张图上，x轴默认为index\n",
    "\n",
    "df.plot.kde() # 核密度估计图，各列叠加不同色在同一张图上\n",
    "sns.jointplot(x=df['a'], y=df['b'], kind=\"kde\") # 双变量核密度估计图，看两个变量之间相关性\n",
    "\n",
    "sns.heatmap(data=df, annot=True) # 热力图，由n行m列的数据绘制n*m个方块并按相关程度填色，index和columns分别为图的横纵坐标\n",
    "\n",
    "df.plot.box(columns=['a', 'b']) # 箱线图（看离群值），不指定columns则横坐标为所有列的名字"
   ]
  }
 ],
 "metadata": {
  "kernelspec": {
   "display_name": "Python 3",
   "language": "python",
   "name": "python3"
  },
  "language_info": {
   "codemirror_mode": {
    "name": "ipython",
    "version": 2
   },
   "file_extension": ".py",
   "mimetype": "text/x-python",
   "name": "python",
   "nbconvert_exporter": "python",
   "pygments_lexer": "ipython2",
   "version": "3.7.6-final"
  }
 },
 "nbformat": 4,
 "nbformat_minor": 0
}