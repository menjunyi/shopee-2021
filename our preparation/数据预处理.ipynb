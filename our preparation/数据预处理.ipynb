{
 "cells": [
  {
   "cell_type": "markdown",
   "metadata": {},
   "source": [
    "可以参考的web：https://towardsdatascience.com/data-pre-processing-techniques-you-should-know-8954662716d6\n",
    "\n",
    "数据预处理部分：Python、pandas读csv、pandas dataframe对某列做处理和转换（自定义函数及正则表达式）、字符串的处理（如邮箱等特定格式）、日期的处理（同频采样、离散化）"
   ]
  },
  {
   "cell_type": "code",
   "execution_count": 1,
   "metadata": {
    "collapsed": true,
    "pycharm": {
     "name": "#%%\n"
    }
   },
   "outputs": [],
   "source": [
    "import numpy as np\n",
    "import pandas as pd\n",
    "\n"
   ]
  },
  {
   "cell_type": "markdown",
   "metadata": {
    "pycharm": {
     "name": "#%% md\n"
    }
   },
   "source": [
    "常见的查看表格定义，前几行数据的操作"
   ]
  },
  {
   "cell_type": "code",
   "execution_count": null,
   "metadata": {
    "pycharm": {
     "name": "#%%\n"
    }
   },
   "outputs": [],
   "source": [
    "train = pd.read_csv('../input/open-shopee-code-league-marketing-analytics/train.csv')\n",
    "users = pd.read_csv('../input/open-shopee-code-league-marketing-analytics/train.csv')\n",
    "train\n",
    "train.info()"
   ]
  },
  {
   "cell_type": "markdown",
   "metadata": {
    "pycharm": {
     "name": "#%% md\n"
    }
   },
   "source": [
    "常见的增加列, 减少列，合并,分开表格操作"
   ]
  },
  {
   "cell_type": "code",
   "execution_count": null,
   "metadata": {
    "pycharm": {
     "name": "#%%\n"
    }
   },
   "outputs": [],
   "source": [
    "# Merge two table by id\n",
    "pd.merge(train, users, on = 'user_id', how = 'left')\n",
    "\n",
    "# Delete a field\n",
    "train.drop(columns=[\"buyeraddress\", \"selleraddress\", \"destination\", \"origin\"])\n",
    "\n",
    "# Divide a table based on value of flag\n",
    "train_flag1 = train[train['open_flag'] == 1]\n",
    "\n",
    "# add a new feature column\n",
    "train['day_of_week'] = train['grass_date'].dt.day_name()\n",
    "\n",
    "# map a boolean field to string\n",
    "train['age_class'] = train['age_class'].map({True:'Unknown',False:'<>'})\n",
    "# concat two columns\n",
    "train_feat = pd.concat([train_feat, dom_flag], axis = 1)"
   ]
  },
  {
   "cell_type": "markdown",
   "metadata": {},
   "source": [
    "统计类函数,数据分布类"
   ]
  },
  {
   "cell_type": "code",
   "execution_count": null,
   "metadata": {
    "pycharm": {
     "name": "#%%\n"
    }
   },
   "outputs": [],
   "source": [
    "# look at the mean and count value\n",
    "train.describe()\n",
    "# look at the rows fit the condition\n",
    "train[(train.age > 116)]\n",
    "\n",
    "# look at amount of different value\n",
    "train.['open_flag'].value_counts()\n",
    "\n",
    "# max and min value of one field\n",
    "print(train['grass_date'].min(), train['grass_date'].max())\n",
    "\n",
    "# count the na row\n",
    "train.isna().sum()"
   ]
  },
  {
   "cell_type": "markdown",
   "metadata": {},
   "source": [
    "常见的数据可视化工具和函数"
   ]
  },
  {
   "cell_type": "code",
   "execution_count": null,
   "metadata": {
    "pycharm": {
     "name": "#%%\n"
    }
   },
   "outputs": [],
   "source": [
    "# look the hist of table, 用来参考某一指标是否对结果有影响\n",
    "train_flag1['country_code'].hist()\n",
    "\n",
    "# get hist distribute in a condition\n",
    "train_temp1 = train[(train['last_login_day'] != 'Never login') & (train['open_flag'] == 1)]\n",
    "train_temp1[train_temp1['last_login_day'] < 200]['last_login_day'].hist()\n",
    "\n",
    "# assign the bins of a hist\n",
    "train_temp1['login_count_last_10_days'].hist(bins = [0, 20, 40, 60, 80, 100])"
   ]
  },
  {
   "cell_type": "markdown",
   "metadata": {},
   "source": [
    "数据转换类型,重新赋值"
   ]
  },
  {
   "cell_type": "code",
   "execution_count": null,
   "metadata": {
    "pycharm": {
     "name": "#%%\n"
    }
   },
   "outputs": [],
   "source": [
    "import datetime as dt\n",
    "train['country_code'] = train['country_code'].astype(str)\n",
    "# convert grass_date to datetime\n",
    "train['grass_date'] = pd.to_datetime(train['grass_date'])\n",
    "\n",
    "# set value to a set of data\n",
    "train.loc[train['age'] < 30, 'age_class'] = '<30'\n",
    "\n",
    "# set a field to not a number\n",
    "train.loc[train['age'] > 110, 'age'] = np.nan\n",
    "\n",
    "# replace the number by apply a function\n",
    "def make_domain_type(dom) :\n",
    "    if dom in ['@163.com','@gmail.com','@yahoo.com','@ymail.com'] :\n",
    "        res = 'low_domain'\n",
    "    elif dom in ['@outlook.com','@qq.com','@rocketmail.com'] :\n",
    "        res = 'med_domain'\n",
    "    elif dom in ['@hotmail.com','@icloud.com','@live.com','other'] :\n",
    "        res = 'high_domain'\n",
    "    return res\n",
    "\n",
    "train['domain_type'] = train.apply(lambda x : make_domain_type(x['domain']), axis=1)\n",
    "\n"
   ]
  },
  {
   "cell_type": "markdown",
   "metadata": {},
   "source": [
    "最后处理非数字类型到数字类型特征"
   ]
  },
  {
   "cell_type": "code",
   "execution_count": null,
   "metadata": {
    "pycharm": {
     "name": "#%%\n"
    }
   },
   "outputs": [],
   "source": [
    "# getnumerical features\n",
    "train._get_numeric_data().columns\n",
    "\n",
    "# convert the time zone, and convert to numberic feature\n",
    "train['grass_date'] = train['grass_date'].dt.tz_convert(None)\n",
    "train['grass_date'] = (train['grass_date'] - dt.datetime(1970,1,1)).dt.total_seconds()\n",
    "\n",
    "# set Never open to a big integer\n",
    "train['last_open_day'] = train['last_open_day'].replace(['Never open'], 1000)\n",
    "\n",
    "# One hot Encoding\n",
    "dom_flag = pd.get_dummies(train['domain'])\n",
    "test_feat = pd.concat([test_feat, dom_flag_test], axis = 1)\n",
    "# get number of features\n",
    "features = [c for c in train_feat.columns if c not in ['open_flag', 'user_id', 'row_id', 'age_class', 'domain_type', 'day_of_month']]\n",
    "len(features)\n",
    "\n",
    "# impute null\n",
    "train_imputed = mice(train_feat[features].values)"
   ]
  },
  {
   "cell_type": "markdown",
   "metadata": {},
   "source": [
    "正则表达式"
   ]
  },
  {
   "cell_type": "code",
   "execution_count": null,
   "metadata": {},
   "outputs": [],
   "source": [
    "import re\n",
    "\n",
    "# email\n",
    "email = \"ankitrai326@gmail.com\"\n",
    "regex = '^[a-z0-9]+[\\._]?[a-z0-9]+[@]\\w+[.]\\w{2,3}$'\n",
    "\n",
    "re.search(regex,email)"
   ]
  }
 ],
 "metadata": {
  "kernelspec": {
   "display_name": "Python 3",
   "language": "python",
   "name": "python3"
  },
  "language_info": {
   "codemirror_mode": {
    "name": "ipython",
    "version": 3
   },
   "file_extension": ".py",
   "mimetype": "text/x-python",
   "name": "python",
   "nbconvert_exporter": "python",
   "pygments_lexer": "ipython3",
   "version": "3.8.3"
  },
  "pycharm": {
   "stem_cell": {
    "cell_type": "raw",
    "metadata": {
     "collapsed": false
    },
    "source": []
   }
  },
  "toc": {
   "base_numbering": 1,
   "nav_menu": {},
   "number_sections": true,
   "sideBar": true,
   "skip_h1_title": false,
   "title_cell": "Table of Contents",
   "title_sidebar": "Contents",
   "toc_cell": false,
   "toc_position": {},
   "toc_section_display": true,
   "toc_window_display": false
  }
 },
 "nbformat": 4,
 "nbformat_minor": 1
}
